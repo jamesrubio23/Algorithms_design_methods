{
  "nbformat": 4,
  "nbformat_minor": 0,
  "metadata": {
    "colab": {
      "provenance": []
    },
    "kernelspec": {
      "name": "python3",
      "display_name": "Python 3"
    },
    "language_info": {
      "name": "python"
    }
  },
  "cells": [
    {
      "cell_type": "markdown",
      "source": [
        "**Isomorphishm of digraphs**"
      ],
      "metadata": {
        "id": "wekyqBaVyPYo"
      }
    },
    {
      "cell_type": "code",
      "source": [
        "import random\n",
        "random.seed(123)\n",
        "def generate_digraph(n):\n",
        "  \"\"\"\n",
        "  Computational cost: O(n^2)\n",
        "  Additional space cost: O(n^2)\n",
        "  ----------------------------\n",
        "  Function that generates a random adyacent matrix that we will use to represent\n",
        "  a random digraph.\n",
        "  \"\"\"\n",
        "  g = [[0 for j in range(n)] for i in range(n)]\n",
        "  for i in range(n):\n",
        "    for j in range(n):\n",
        "      g[i][j] = random.randint(0, 1)\n",
        "  return g\n",
        "\n",
        "generate_digraph(5)  "
      ],
      "metadata": {
        "colab": {
          "base_uri": "https://localhost:8080/"
        },
        "id": "xyQRnOv6yT2E",
        "outputId": "3be9c4ac-37ce-4fb9-c2e5-eca4569a4230"
      },
      "execution_count": 1,
      "outputs": [
        {
          "output_type": "execute_result",
          "data": {
            "text/plain": [
              "[[0, 1, 0, 1, 1],\n",
              " [0, 0, 1, 1, 1],\n",
              " [0, 0, 0, 1, 1],\n",
              " [0, 0, 0, 1, 0],\n",
              " [1, 0, 0, 1, 1]]"
            ]
          },
          "metadata": {},
          "execution_count": 1
        }
      ]
    },
    {
      "cell_type": "code",
      "source": [
        "random.seed(123)\n",
        "def in_out(G):\n",
        "  \"\"\"\n",
        "  Computational cost: O(n^2)\n",
        "  Additional space cost: O(n)\n",
        "  g: digraph represented by its adyacent matrix\n",
        "  -------------------------------------------\n",
        "  We count the times the vertices are part of the start (I) and end (O) from an edge\n",
        "  \"\"\"\n",
        "  n=len(G[0]) #it could be anyone\n",
        "  I=[0 for i in range(n)] #I es S\n",
        "  O=[0 for i in range(n)] #O es E\n",
        "  \n",
        "\n",
        "  for i in range(n):\n",
        "    for j in range(n):\n",
        "      if G[i][j]==1:\n",
        "        I[i]+=1\n",
        "        O[j]+=1\n",
        "  #print(f\"times the vertices are the end of and edge {O}\")\n",
        "  #print(f\"times the vertices are the start of and edge {I}\")\n",
        "  return I,O\n",
        "digraph = generate_digraph(5)\n",
        "in_out(digraph)"
      ],
      "metadata": {
        "colab": {
          "base_uri": "https://localhost:8080/"
        },
        "id": "LJHYIG58yVgs",
        "outputId": "8487d38a-3d22-4072-dbac-1aeec2be0549"
      },
      "execution_count": 2,
      "outputs": [
        {
          "output_type": "execute_result",
          "data": {
            "text/plain": [
              "([3, 3, 2, 1, 3], [1, 1, 1, 5, 4])"
            ]
          },
          "metadata": {},
          "execution_count": 2
        }
      ]
    },
    {
      "cell_type": "code",
      "source": [
        "random.seed(123)\n",
        "def digraph(g1,g2,I1,O1,I2,O2,sol,k,used,success,l):\n",
        "  \"\"\"\n",
        "  g1: digraph represented by its adyancent matrix\n",
        "  g2: digraph represented by its adyancent matrix\n",
        "  Ii: list of length equal to the vertices with the times a vertex is the start of an edge from gi for i=1,2\n",
        "  Oi: list of length equal to the vertices with the times a vertex is the end of an edge from gi for i=1,2\n",
        "  sol: biyective opeartion\n",
        "  k: int number to go through the vertices\n",
        "  used: vector that tells if a vertex is used \n",
        "  success: bool variable that tells if there is an isomorphism or not\n",
        "  -------------------------\n",
        "  \n",
        "  \"\"\"\n",
        "  n=len(g1[0])\n",
        "  vertex=0\n",
        "  if True in l: #It's necessary to stop all the recursive calls when we find a solution\n",
        "    return l\n",
        "\n",
        "  while vertex<=n-1 and not success:\n",
        "    if not used[vertex]:\n",
        "      sol[k]=vertex\n",
        "      used[vertex]=True\n",
        "      if I1[k]==I2[sol[k]] and O1[k]==O2[sol[k]] and confirm_edges(g1,g2,sol,k):\n",
        "        if k==n-1:\n",
        "          success=True\n",
        "          \n",
        "        else:\n",
        "          digraph(g1,g2,I1,O1,I2,O2,sol,k+1,used,success,l)\n",
        "      used[vertex]=False\n",
        "      if success==True:\n",
        "        l.append(success)\n",
        "        print(f'A solution is {sol}')\n",
        "    vertex+=1\n",
        "  return l\n",
        "\n",
        "def confirm_edges(g1,g2,sol,k):\n",
        "  \"\"\"\n",
        "  Function that checks if the edges from g1 are respect g2.(Bijection)\n",
        "  \"\"\"\n",
        "  i=0\n",
        "  answer=True\n",
        "  while answer and i<k:\n",
        "    answer= (g1[i][k]==g2[sol[i]][sol[k]]) and (g1[k][i]==g2[sol[k]][sol[i]])\n",
        "    i+=1\n",
        "  return answer\n",
        "\n",
        "def iso(g1,g2):\n",
        "  \"\"\"\n",
        "  g1: digraph represented by its adyancent matrix\n",
        "  g2: digraph represented by its adyancent matrix\n",
        "  -------------------------------------------------\n",
        "  We initialize the vectors used and sol, call the function in_out to get the number of times a vertex \n",
        "  is part of an edge and put success to False value as we have not see if its an isomorphism yet.\n",
        "  We use all these for the function digraph.\n",
        "  We use a list to store the True value of success because if not, it will give all the possible combinations.\n",
        "  We may be using more space than necessary but right now this is the solution taken.\n",
        "  \"\"\"\n",
        "  l=[]\n",
        "  n=len(g1[0])\n",
        "  used = [False for i in range(n)]\n",
        "  sol= [0 for i in range(n)]\n",
        "  I1,O1 = in_out(g1)\n",
        "  I2,O2 = in_out(g2)\n",
        "  success=False\n",
        "  l=digraph(g1,g2,I1,O1,I2,O2,sol,0,used,success,l)\n",
        "  if l!=[]:\n",
        "    print(f\"Isomorphism of digraphs between digraph1 and digraph2:{l[0]}\")#It will always be True\n",
        "  else:\n",
        "    print(f\"Isomorphism of digraphs between digraph1 and digraph2:{False}\")\n",
        "\n",
        "\n",
        "digraph1 = generate_digraph(5)\n",
        "digraph2 = generate_digraph(5)\n",
        "\n",
        "print(digraph1)\n",
        "print(f'{digraph2}\\n')\n",
        "iso(digraph1,digraph2)"
      ],
      "metadata": {
        "colab": {
          "base_uri": "https://localhost:8080/"
        },
        "id": "ge1GKcVSyYSq",
        "outputId": "294bb6e4-8388-4127-e0b2-fee41eda285f"
      },
      "execution_count": 7,
      "outputs": [
        {
          "output_type": "stream",
          "name": "stdout",
          "text": [
            "[[0, 1, 0, 1, 1], [0, 0, 1, 1, 1], [0, 0, 0, 1, 1], [0, 0, 0, 1, 0], [1, 0, 0, 1, 1]]\n",
            "[[0, 0, 0, 0, 0], [0, 1, 1, 1, 1], [1, 0, 1, 1, 1], [0, 1, 0, 1, 1], [1, 1, 1, 0, 0]]\n",
            "\n",
            "Isomorphism of digraphs between digraph1 and digraph2:False\n"
          ]
        }
      ]
    },
    {
      "cell_type": "code",
      "source": [
        "#Now with an isomorphish of digraphs\n",
        "digraph11 = [[0, 1, 1, 0], [1, 0, 0, 1], [1, 0, 0, 1], [0, 1, 1, 0]]\n",
        "digraph12 = [[0, 0, 1, 1], [0, 0, 1, 1], [1, 1, 0, 0], [1, 1, 0, 0]]\n",
        "iso(digraph11,digraph12)"
      ],
      "metadata": {
        "colab": {
          "base_uri": "https://localhost:8080/"
        },
        "id": "8d0aulYQpPJ7",
        "outputId": "474d6e5b-b115-4c30-a80d-6d24eec1c973"
      },
      "execution_count": 8,
      "outputs": [
        {
          "output_type": "stream",
          "name": "stdout",
          "text": [
            "A solution is [0, 2, 3, 1]\n",
            "Isomorphism of digraphs between digraph1 and digraph2:True\n"
          ]
        }
      ]
    },
    {
      "cell_type": "code",
      "source": [],
      "metadata": {
        "id": "VSuP11b9zvjR"
      },
      "execution_count": null,
      "outputs": []
    }
  ]
}